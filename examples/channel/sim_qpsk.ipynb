{
 "cells": [
  {
   "cell_type": "markdown",
   "metadata": {},
   "source": [
    "# QPSK Simulation"
   ]
  },
  {
   "cell_type": "markdown",
   "metadata": {},
   "source": [
    "TODO:\\\n",
    "1-) Make cuter figures\\\n",
    "2-) Add ber\\\n",
    "3-) Add AWGN"
   ]
  },
  {
   "cell_type": "code",
   "execution_count": 1,
   "metadata": {},
   "outputs": [],
   "source": [
    "import sys\n",
    "sys.path.insert(0, '../../utils')\n",
    "from random_variables import *\n",
    "\n",
    "import numpy as np\n",
    "import matplotlib.pyplot as plt\n",
    "\n",
    "pi = np.pi\n",
    "from numpy import exp as exp\n",
    "from numpy import log as log\n",
    "from numpy import cos as cos\n",
    "from numpy import sin as sin\n",
    "from numpy import sqrt as sqrt\n",
    "from numpy import sign as sign\n",
    "from numpy import real as real\n",
    "from numpy import imag as imag"
   ]
  },
  {
   "cell_type": "markdown",
   "metadata": {},
   "source": [
    "## Simulation"
   ]
  },
  {
   "cell_type": "code",
   "execution_count": 2,
   "metadata": {},
   "outputs": [],
   "source": [
    "#------------------------------------------------------------------------------#\n",
    "# Simulation: Calculations\n",
    "#------------------------------------------------------------------------------#\n",
    "\n",
    "# Information\n",
    "sample_quantity = int(1e6)\n",
    "qpsk_I = np.random.randint(2, size = sample_quantity).reshape(sample_quantity, 1)\n",
    "qpsk_Q = np.random.randint(2, size = sample_quantity).reshape(sample_quantity, 1)\n",
    "qpsk_symbols = (2*qpsk_I-1 + 1j* (2*qpsk_Q-1)) / sqrt(2)\n",
    "\n",
    "# SNR range in column matrix\n",
    "snr_db = np.arange(0, 32, 2)\n",
    "snr_db = snr_db.reshape(snr_db.shape[0], 1)\n",
    "snr_linear = 10**(snr_db/10)\n",
    "\n",
    "# Calculating SER for all SNR values\n",
    "ser = np.zeros([snr_db.shape[0], 1])\n",
    "qpsk_symbols_ref = 2*qpsk_I + qpsk_Q\n",
    "omega = 2\n",
    "ch_coeff = rayleigh_rv(omega, sample_quantity).reshape(sample_quantity,1)\n",
    "# complex_noise_normal = (gaussian_rv(0, 1, sample_quantity) + 1j*gaussian_rv(0, 1, sample_quantity))\n",
    "complex_noise_normal = (np.random.normal(0, 1, sample_quantity) + 1j*np.random.normal(0, 1, sample_quantity)) \n",
    "for snr_db_i in range(snr_db.shape[0]):\n",
    "    # Current SNR in linear scale\n",
    "    snr_lin = snr_linear[snr_db_i]\n",
    "\n",
    "    # Creating noise matrix for all SNR values\n",
    "    complex_noise_vector =  complex_noise_normal / sqrt(snr_lin) / sqrt(2)\n",
    "    complex_noise_vector = complex_noise_vector.reshape(complex_noise_vector.shape[0], 1)\n",
    "\n",
    "    # Channel\n",
    "    received_signal =  ch_coeff*qpsk_symbols + complex_noise_vector;\n",
    "\n",
    "    # Equalizer    \n",
    "    equalized_signal = received_signal / ch_coeff; \n",
    "\n",
    "    # Calculating SER\n",
    "    demod_qpsk_I = (sign(real(received_signal))+1)/2;\n",
    "    demod_qpsk_Q = (sign(imag(received_signal))+1)/2;\n",
    "\n",
    "    qpsk_symbols_diff = 2*demod_qpsk_I + demod_qpsk_Q - qpsk_symbols_ref\n",
    "    ser[snr_db_i] = sum( qpsk_symbols_diff != 0 ) / sample_quantity"
   ]
  },
  {
   "cell_type": "markdown",
   "metadata": {},
   "source": [
    "## Figures"
   ]
  },
  {
   "cell_type": "code",
   "execution_count": 3,
   "metadata": {},
   "outputs": [
    {
     "data": {
      "image/png": "[encoded data removed]",
      "text/plain": [
       "<Figure size 432x288 with 1 Axes>"
      ]
     },
     "metadata": {
      "needs_background": "light"
     },
     "output_type": "display_data"
    }
   ],
   "source": [
    "#------------------------------------------------------------------------------#\n",
    "# Simulation: Figures\n",
    "#------------------------------------------------------------------------------#\n",
    "plt.figure()\n",
    "plt.semilogy(snr_db, ser)\n",
    "plt.grid()\n",
    "plt.xlabel('SNR [dB]')\n",
    "plt.ylabel('BER')\n",
    "plt.title('QPSK SER performance for fading channel')\n",
    "plt.show()\n"
   ]
  }
 ],
 "metadata": {
  "interpreter": {
   "hash": "4fc13e4be84a14af348fa56821ee1ef4c9f70892e4456ede292a148d17118c26"
  },
  "kernelspec": {
   "display_name": "Python 3.7.11 ('MachineLearning')",
   "language": "python",
   "name": "python3"
  },
  "language_info": {
   "codemirror_mode": {
    "name": "ipython",
    "version": 3
   },
   "file_extension": ".py",
   "mimetype": "text/x-python",
   "name": "python",
   "nbconvert_exporter": "python",
   "pygments_lexer": "ipython3",
   "version": "3.7.11"
  },
  "orig_nbformat": 4
 },
 "nbformat": 4,
 "nbformat_minor": 2
}
