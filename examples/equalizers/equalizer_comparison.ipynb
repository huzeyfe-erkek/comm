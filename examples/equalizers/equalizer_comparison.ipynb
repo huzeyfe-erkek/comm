{
 "cells": [
  {
   "cell_type": "markdown",
   "id": "8bc0a0c5",
   "metadata": {},
   "source": [
    "# Equalizer Comparison\n",
    "This example uses discrete-channel model"
   ]
  },
  {
   "cell_type": "code",
   "execution_count": null,
   "id": "c229dbd8",
   "metadata": {},
   "outputs": [],
   "source": [
    "#------------------------------------------------------------------------------#\n",
    "# Adding comm module path\n",
    "#------------------------------------------------------------------------------#\n",
    "import os\n",
    "import sys\n",
    "module_path = os.path.abspath(os.path.join('../..'))\n",
    "if module_path not in sys.path:\n",
    "    sys.path.append(module_path)"
   ]
  },
  {
   "cell_type": "code",
   "execution_count": null,
   "id": "7236be49",
   "metadata": {},
   "outputs": [],
   "source": [
    "#------------------------------------------------------------------------------#\n",
    "# Import Libraries\n",
    "#------------------------------------------------------------------------------#\n",
    "import numpy as np\n",
    "import matplotlib.pyplot as plt\n",
    "\n",
    "pi = np.pi\n",
    "from numpy import exp as exp\n",
    "from numpy import log as log\n",
    "from numpy import cos as cos\n",
    "from numpy import sin as sin\n",
    "from numpy import sqrt as sqrt\n",
    "from numpy import sign as sign\n",
    "from numpy import real as real\n",
    "from numpy import imag as imag\n",
    "\n",
    "from scipy import signal\n",
    "from scipy.signal import convolve\n",
    "from scipy.signal import lfilter\n",
    "from scipy.linalg import toeplitz\n",
    "\n",
    "import keras\n",
    "from keras import layers\n",
    "from keras.models import Sequential\n",
    "from keras.layers import Dense\n",
    "from keras.layers import LSTM\n",
    "\n",
    "import pandas as pd\n",
    "from sklearn.ensemble import RandomForestClassifier\n",
    "from sklearn.model_selection import train_test_split\n",
    "from sklearn.metrics import accuracy_score\n",
    "from sklearn.metrics import classification_report\n",
    "\n",
    "from utils.utils_filter import *\n",
    "from utils.utils_waveform import *\n",
    "from utils.utils_report import *\n",
    "\n",
    "from adaptive_filters.lms import *\n",
    "from adaptive_filters.rls import *\n",
    "\n",
    "from modulation.bpsk_modulator import BpskModulator\n",
    "from modulation.bpsk_demodulator import BpskDemodulator"
   ]
  },
  {
   "cell_type": "markdown",
   "id": "4cc9bec0",
   "metadata": {},
   "source": [
    "## Generating Dataset"
   ]
  },
  {
   "cell_type": "code",
   "execution_count": null,
   "id": "2096314e",
   "metadata": {},
   "outputs": [],
   "source": [
    "#------------------------------------------------------------------------------#\n",
    "# Data Parameters\n",
    "#------------------------------------------------------------------------------#\n",
    "N = 1000 # Number of bits to generate\n",
    "bits = np.random.normal(0, 1, N) > 0\n",
    "symbols = 2*bits - 1\n",
    "\n",
    "#------------------------------------------------------------------------------#\n",
    "# Channel Parameters\n",
    "#------------------------------------------------------------------------------#\n",
    "#c = np.array([0.90, -0.15, 0.20, 0.10, -0.05]) # G. Stüber's example 7.2 in Section 7, Principles of Mobile Communication\n",
    "c = np.array([0.2835, 0.2031, 0.1455, 0.1043, 0.0747, 0.0535, 0.0384, 0.0275, 0.0197, 0.0141, 0.0101, 0.0072, 0.0052, 0.0037, 0.0027, 0.0019])\n",
    "snr_db = 10\n",
    "snr = 10**(snr_db/10)\n",
    "\n",
    "#------------------------------------------------------------------------------#\n",
    "# Received signal\n",
    "#------------------------------------------------------------------------------#\n",
    "# TODO: Check SNR\n",
    "symbolsIsi = lfilter(c, 1, symbols)\n",
    "s_p = power(symbols) # Signal power\n",
    "n_p = s_p/snr # Noise power\n",
    "noise = sqrt(n_p) * np.random.normal(0, 1, symbolsIsi.size)\n",
    "symbolsIsi = symbolsIsi.astype(float) + noise\n",
    "\n",
    "# Plotting\n",
    "plt.figure()\n",
    "plt.title('Interfered symbols')\n",
    "plt.stem(symbolsIsi, basefmt=\" \", linefmt=\"blue\", markerfmt=\"bo\")\n",
    "plt.grid()\n",
    "plt.xlabel('Symbol index')\n",
    "plt.ylabel('c')\n",
    "plt.show()"
   ]
  },
  {
   "cell_type": "markdown",
   "id": "a73df3ee",
   "metadata": {},
   "source": [
    "## Linear Equalizers"
   ]
  },
  {
   "cell_type": "code",
   "execution_count": null,
   "id": "0f8929c5",
   "metadata": {},
   "outputs": [],
   "source": [
    "# Common parameters"
   ]
  },
  {
   "cell_type": "markdown",
   "id": "728dc22f",
   "metadata": {},
   "source": [
    "### Zero-Forcing"
   ]
  },
  {
   "cell_type": "code",
   "execution_count": null,
   "id": "34d0a706",
   "metadata": {},
   "outputs": [],
   "source": [
    "# TODO"
   ]
  },
  {
   "cell_type": "markdown",
   "id": "6794f4de",
   "metadata": {},
   "source": [
    "### Wiener"
   ]
  },
  {
   "cell_type": "code",
   "execution_count": null,
   "id": "85f54301",
   "metadata": {},
   "outputs": [],
   "source": [
    "# TODO"
   ]
  },
  {
   "cell_type": "markdown",
   "id": "f96579ce",
   "metadata": {},
   "source": [
    "## Adaptive Linear Equalizers\n",
    "Note: Training dataset can be chosen with different offset which corresponds delay. It changes EVM."
   ]
  },
  {
   "cell_type": "code",
   "execution_count": null,
   "id": "da3244bc",
   "metadata": {},
   "outputs": [],
   "source": [
    "# Parameters\n",
    "Ne = c.size # Filter taps, It could be less\n",
    "\n",
    "# LMS parameter\n",
    "muLms = 0.1 # Convergence rate\n",
    "\n",
    "# NLMS parameter\n",
    "muNlms = 0.2 # Convergence rage\n",
    "\n",
    "lmbdaRls = 0.999 # Forgetting factor\n",
    "deltaRls = 0.1 # Regularization term "
   ]
  },
  {
   "cell_type": "markdown",
   "id": "3993b7af",
   "metadata": {},
   "source": [
    "### LMS Algorithm"
   ]
  },
  {
   "cell_type": "code",
   "execution_count": null,
   "id": "fe2e9f98",
   "metadata": {},
   "outputs": [],
   "source": [
    "lms = Lms(Ne, muLms)\n",
    "\n",
    "# Memory allocation to record evolution of adaptive filter\n",
    "wRecLms = np.zeros((Ne, N-Ne))\n",
    "evmLms = np.zeros(N-Ne)\n",
    "\n",
    "# Using the training data to estimate the equalizer weights\n",
    "for k in range(Ne,N):\n",
    "    xk = symbolsIsi[(k-Ne):(k)]\n",
    "    w, e = lms.evalChunk(xk, symbols[k-1])    \n",
    "    \n",
    "    # Record and equalize for each weight to monitor EVM\n",
    "    y = filterB(w, symbolsIsi)\n",
    "    wRecLms[:, k-Ne] = w.flatten()\n",
    "    evmLms[k-Ne] = errorVectorMagnitude(y, symbols)\n",
    "\n",
    "print(\"LMS Equalizer\")\n",
    "linkReport(y, symbols, BpskDemodulator())\n",
    "\n",
    "# Plot EVM change\n",
    "plt.figure()\n",
    "plt.plot(evmLms)\n",
    "plt.grid()\n",
    "plt.title('LMS Equalizer with ' + str(N) + ' training bits and mu: ' + str(muLms))\n",
    "plt.xlabel('Training sample number')\n",
    "plt.ylabel('EVM')\n",
    "\n",
    "# Plot filter taps\n",
    "plt.figure()\n",
    "plt.plot(wRecLms.T)\n",
    "plt.grid()\n",
    "plt.title('Evolution of LMS equalizer weights')\n",
    "plt.xlabel('Training sample number')\n",
    "plt.ylabel('Weight value')\n",
    "plt.show()"
   ]
  },
  {
   "cell_type": "markdown",
   "id": "b24fd881",
   "metadata": {},
   "source": [
    "### NLMS Algorithm"
   ]
  },
  {
   "cell_type": "code",
   "execution_count": null,
   "id": "00ec1e22",
   "metadata": {},
   "outputs": [],
   "source": [
    "nlms = Lms(Ne, muNlms, \"nlms\")\n",
    "\n",
    "# Memory allocation to record evolution of adaptive filter\n",
    "wRecNlms = np.zeros((Ne, N-Ne))\n",
    "evmNlms = np.zeros(N-Ne)\n",
    "\n",
    "# Using the training data to estimate the equalizer weights\n",
    "for k in range(Ne,N):\n",
    "    xk = symbolsIsi[(k-Ne):(k)]\n",
    "    w, e = nlms.evalChunk(xk, symbols[k-1])    \n",
    "    \n",
    "    # Record and equalize for each weight to monitor EVM\n",
    "    y = filterB(w, symbolsIsi)\n",
    "    wRecNlms[:, k-Ne] = w.flatten()\n",
    "    evmNlms[k-Ne] = errorVectorMagnitude(y, symbols)\n",
    "\n",
    "print(\"NLMS Equalizer\")\n",
    "linkReport(y, symbols, BpskDemodulator())\n",
    "\n",
    "# Plot EVM change\n",
    "plt.figure()\n",
    "plt.plot(evmNlms)\n",
    "plt.grid()\n",
    "plt.title('NLMS Equalizer with ' + str(N) + ' training bits and mu: ' + str(muNlms))\n",
    "plt.xlabel('Training sample number')\n",
    "plt.ylabel('EVM')\n",
    "\n",
    "# Plot filter taps\n",
    "plt.figure()\n",
    "plt.plot(wRecNlms.T)\n",
    "plt.grid()\n",
    "plt.title('Evolution of NLMS equalizer weights')\n",
    "plt.xlabel('Training sample number')\n",
    "plt.ylabel('Weight value')\n",
    "plt.show()"
   ]
  },
  {
   "cell_type": "markdown",
   "id": "d524b8cf",
   "metadata": {},
   "source": [
    "### RLS Algorithm"
   ]
  },
  {
   "cell_type": "code",
   "execution_count": null,
   "id": "bc91d304",
   "metadata": {},
   "outputs": [],
   "source": [
    "rls = Rls(Ne, lmbdaRls, deltaRls)\n",
    "\n",
    "# Memory allocation to record evolution of adaptive filter\n",
    "wRecRls = np.zeros((Ne, N-Ne))\n",
    "evmRls = np.zeros(N-Ne)\n",
    "\n",
    "# Using the training data to estimate the equalizer weights\n",
    "for k in range(Ne,N):\n",
    "    xk = symbolsIsi[(k-Ne):(k)]\n",
    "    w, e = rls.evalChunk(xk, symbols[k-1])    \n",
    "    \n",
    "    # Record and equalize for each weight to monitor EVM\n",
    "    y = filterB(w, symbolsIsi)\n",
    "    wRecRls[:, k-Ne] = w.flatten()\n",
    "    evmRls[k-Ne] = errorVectorMagnitude(y, symbols)\n",
    "\n",
    "print(\"RLS Equalizer\")\n",
    "linkReport(y, symbols, BpskDemodulator())\n",
    "\n",
    "# Plot EVM change\n",
    "plt.figure()\n",
    "plt.plot(evmRls)\n",
    "plt.grid()\n",
    "plt.title('RLS Equalizer with ' + str(N) + ' training bits,  lambda: ' + str(lmbdaRls) + ' and delta: ' + str(deltaRls))\n",
    "plt.xlabel('Training sample number')\n",
    "plt.ylabel('EVM')\n",
    "\n",
    "# Plot filter taps\n",
    "plt.figure()\n",
    "plt.plot(wRecRls.T)\n",
    "plt.grid()\n",
    "plt.title('Evolution of RLS equalizer weights')\n",
    "plt.xlabel('Training sample number')\n",
    "plt.ylabel('Weight value')\n",
    "plt.show()"
   ]
  },
  {
   "cell_type": "markdown",
   "id": "76a95293",
   "metadata": {},
   "source": [
    "## Machine Learning Methods\n",
    "WARNING: Following codes are hobby-level. Don't take them serious"
   ]
  },
  {
   "cell_type": "code",
   "execution_count": null,
   "id": "0a6ad705",
   "metadata": {},
   "outputs": [],
   "source": [
    "#------------------------------------------------------------------------------#\n",
    "# Machine Learning\n",
    "#------------------------------------------------------------------------------#\n",
    "cLen = c.size\n",
    "labeledLen = N-cLen\n",
    "\n",
    "# Allocate mems\n",
    "xSet = np.zeros((labeledLen, cLen))\n",
    "ySet = np.zeros((labeledLen, 1))\n",
    "\n",
    "# Get x and y set\n",
    "for k in range(cLen,N):\n",
    "    xSet[k-cLen, :] = xk = symbolsIsi[(k-cLen):(k)]\n",
    "    ySet[k-cLen] = symbols[k-1]\n",
    "    \n",
    "# Creating pandas dataframe from numpy array\n",
    "dataset = pd.DataFrame(xSet)\n",
    "dataset['Y'] = ySet\n",
    "\n",
    "dataset.head()"
   ]
  },
  {
   "cell_type": "code",
   "execution_count": null,
   "id": "8e0ab7a2",
   "metadata": {},
   "outputs": [],
   "source": [
    "# Form train and test set\n",
    "xTrain, xTest, yTrain, yTest = train_test_split(dataset.iloc[:,:cLen], dataset['Y'], test_size=0.33, random_state=42)\n",
    "print(xTrain.shape)\n",
    "print(xTest.shape)\n",
    "print(yTrain.shape)\n",
    "print(yTest.shape)"
   ]
  },
  {
   "cell_type": "code",
   "execution_count": null,
   "id": "5db53380",
   "metadata": {},
   "outputs": [],
   "source": [
    "# Random Forest Classifier\n",
    "model = RandomForestClassifier()\n",
    "model.fit(xTrain, yTrain)\n",
    "\n",
    "# Predict from model\n",
    "yPred = model.predict(xTest)\n",
    "\n",
    "# Results\n",
    "linkReport(yPred, yTest.to_numpy(), BpskDemodulator())\n",
    "print('SNR: ' + str(snr_db) + ' [db]\\n\\tSER: ' + str(1-accuracy_score(yTest, yPred)))\n",
    "print('\\nClassification Report:')\n",
    "print(classification_report(yTest, yPred))"
   ]
  },
  {
   "cell_type": "code",
   "execution_count": null,
   "id": "58236e39",
   "metadata": {},
   "outputs": [],
   "source": [
    "# LSTM\n",
    "model_lstm = Sequential()\n",
    "\n",
    "# Alternative-1\n",
    "model_lstm.add(LSTM(1,\n",
    "    activation=\"tanh\",\n",
    "    recurrent_activation=\"tanh\",\n",
    "    batch_input_shape=(None, cLen, 1), \n",
    "    return_sequences=False))\n",
    "\n",
    "#Alternative-2\n",
    "#model_lstm.add(LSTM(1, batch_input_shape=(None, Ne+1, 1), return_sequences=True))\n",
    "#model_lstm.add(LSTM(1, return_sequences=False))\n",
    "\n",
    "opt = keras.optimizers.Adam(learning_rate=0.1)\n",
    "model_lstm.compile(loss='mean_absolute_error',\n",
    "    optimizer=opt,\n",
    "    metrics=['accuracy'])\n",
    "model_lstm.summary()"
   ]
  },
  {
   "cell_type": "code",
   "execution_count": null,
   "id": "c5c0be6b",
   "metadata": {},
   "outputs": [],
   "source": [
    "# Reshape to 3d for ltsm\n",
    "n_train = 200\n",
    "n_test = 200\n",
    "\n",
    "_x_train = xSet[0:n_train, :]\n",
    "_x_test = xSet[n_train:n_train+n_test+1, :]\n",
    "_x_remain = xSet[n_train+n_test+1::, :]\n",
    "\n",
    "_y_train = ySet[0:n_train]\n",
    "_y_test = ySet[n_train:n_train+n_test+1]\n",
    "_y_remain = ySet[n_train+n_test+1::]\n",
    "\n",
    "_x_train = _x_train.reshape(_x_train.shape[0], _x_train.shape[1], 1)\n",
    "_y_train = _y_train.reshape(_y_train.shape[0], _y_train.shape[1], 1)\n",
    "\n",
    "_x_test = _x_test.reshape(_x_test.shape[0], _x_test.shape[1], 1)\n",
    "_y_test = _y_test.reshape(_y_test.shape[0], _y_test.shape[1], 1)\n",
    "\n",
    "_x_remain = _x_remain.reshape(_x_remain.shape[0], _x_remain.shape[1], 1)\n",
    "_y_remain = _y_remain.reshape(_y_remain.shape[0], _y_remain.shape[1], 1)"
   ]
  },
  {
   "cell_type": "code",
   "execution_count": null,
   "id": "1475c612",
   "metadata": {},
   "outputs": [],
   "source": [
    "# Train model\n",
    "history_ltsm = model_lstm.fit(_x_train, _y_train, epochs=10, validation_data=(_x_test, _y_test))"
   ]
  },
  {
   "cell_type": "code",
   "execution_count": null,
   "id": "623f55a5",
   "metadata": {},
   "outputs": [],
   "source": [
    "results_lstm = model_lstm.predict(_x_remain)\n",
    "\n",
    "len = 50 #_y_test.shape[0]\n",
    "plt.scatter(range(len), results_lstm[0:len].reshape(len), c='r')\n",
    "plt.scatter(range(len), _y_remain[0:len].reshape(len), c='g')\n",
    "\n",
    "print(\"LSTM Equalizer\")\n",
    "linkReport(results_lstm, _y_remain, BpskDemodulator())"
   ]
  },
  {
   "cell_type": "code",
   "execution_count": null,
   "id": "3e42cfa6",
   "metadata": {},
   "outputs": [],
   "source": [
    "plt.plot(history_ltsm.history['loss'])\n",
    "plt.title('loss')\n",
    "plt.show()\n",
    "plt.plot(history_ltsm.history['val_loss'])\n",
    "plt.title('val_loss')\n",
    "plt.show()\n",
    "#plt.plot(history_ltsm.history['acc'])\n",
    "#plt.show()\n",
    "#plt.plot(history_ltsm.history['val_acc'])\n",
    "#plt.show()"
   ]
  },
  {
   "cell_type": "code",
   "execution_count": null,
   "id": "fc6d2978",
   "metadata": {},
   "outputs": [],
   "source": []
  },
  {
   "cell_type": "code",
   "execution_count": null,
   "id": "4de706bd",
   "metadata": {},
   "outputs": [],
   "source": []
  },
  {
   "cell_type": "code",
   "execution_count": null,
   "id": "62ef14e1",
   "metadata": {},
   "outputs": [],
   "source": []
  },
  {
   "cell_type": "code",
   "execution_count": null,
   "id": "fd0866d4",
   "metadata": {},
   "outputs": [],
   "source": []
  }
 ],
 "metadata": {
  "hide_input": false,
  "kernelspec": {
   "display_name": "Python 3 (ipykernel)",
   "language": "python",
   "name": "python3"
  },
  "language_info": {
   "codemirror_mode": {
    "name": "ipython",
    "version": 3
   },
   "file_extension": ".py",
   "mimetype": "text/x-python",
   "name": "python",
   "nbconvert_exporter": "python",
   "pygments_lexer": "ipython3",
   "version": "3.7.11"
  },
  "toc": {
   "base_numbering": 1,
   "nav_menu": {},
   "number_sections": true,
   "sideBar": true,
   "skip_h1_title": false,
   "title_cell": "Table of Contents",
   "title_sidebar": "Contents",
   "toc_cell": false,
   "toc_position": {},
   "toc_section_display": true,
   "toc_window_display": false
  },
  "varInspector": {
   "cols": {
    "lenName": 16,
    "lenType": 16,
    "lenVar": 40
   },
   "kernels_config": {
    "python": {
     "delete_cmd_postfix": "",
     "delete_cmd_prefix": "del ",
     "library": "var_list.py",
     "varRefreshCmd": "print(var_dic_list())"
    },
    "r": {
     "delete_cmd_postfix": ") ",
     "delete_cmd_prefix": "rm(",
     "library": "var_list.r",
     "varRefreshCmd": "cat(var_dic_list()) "
    }
   },
   "types_to_exclude": [
    "module",
    "function",
    "builtin_function_or_method",
    "instance",
    "_Feature"
   ],
   "window_display": false
  }
 },
 "nbformat": 4,
 "nbformat_minor": 5
}
