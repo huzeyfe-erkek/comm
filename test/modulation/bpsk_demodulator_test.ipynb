{
 "cells": [
  {
   "cell_type": "code",
   "execution_count": 1,
   "metadata": {},
   "outputs": [],
   "source": [
    "#------------------------------------------------------------------------------#\n",
    "# Import Libraries\n",
    "#------------------------------------------------------------------------------#\n",
    "import numpy as np\n",
    "\n",
    "import sys\n",
    "sys.path.insert(0, '../../modulation')\n",
    "from bpsk_demodulator import BpskDemodulator"
   ]
  },
  {
   "cell_type": "code",
   "execution_count": 2,
   "metadata": {},
   "outputs": [],
   "source": [
    "x = np.array([-1.5, -1, -0.5, 0, 0.5, 1, 1.5])\n",
    "y = np.array([0, 0, 0, 0, 1, 1, 1 ])\n",
    "\n",
    "demod = BpskDemodulator()\n",
    "\n",
    "bits = demod(x)\n",
    "\n",
    "if (np.array_equal(bits, y) == False):\n",
    "    raise AssertionError(\"BPSK demod error\")"
   ]
  }
 ],
 "metadata": {
  "interpreter": {
   "hash": "4fc13e4be84a14af348fa56821ee1ef4c9f70892e4456ede292a148d17118c26"
  },
  "kernelspec": {
   "display_name": "Python 3.7.11 ('MachineLearning')",
   "language": "python",
   "name": "python3"
  },
  "language_info": {
   "codemirror_mode": {
    "name": "ipython",
    "version": 3
   },
   "file_extension": ".py",
   "mimetype": "text/x-python",
   "name": "python",
   "nbconvert_exporter": "python",
   "pygments_lexer": "ipython3",
   "version": "3.7.11"
  },
  "orig_nbformat": 4
 },
 "nbformat": 4,
 "nbformat_minor": 2
}
