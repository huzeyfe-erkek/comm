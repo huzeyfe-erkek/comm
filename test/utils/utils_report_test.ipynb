{
 "cells": [
  {
   "cell_type": "code",
   "execution_count": 1,
   "metadata": {},
   "outputs": [],
   "source": [
    "import numpy as np\n",
    "from numpy import log10 as log10\n",
    "from numpy import floor as floor\n",
    "from numpy import mod as mod\n",
    "\n",
    "import sys\n",
    "sys.path.insert(0, '../../utils')\n",
    "sys.path.insert(0, '../../modulation')\n",
    "\n",
    "from utils_waveform import power\n",
    "from utils_report import *\n",
    "from abstract_demodulator import AbstractDemodulator"
   ]
  },
  {
   "cell_type": "code",
   "execution_count": 9,
   "metadata": {},
   "outputs": [],
   "source": [
    "def number2SciFormatStr_test():\n",
    "    if (number2SciFormatStr(0) != \"0.0e0\"):\n",
    "        raise AssertionError(\"Error@number2SciFormatStr_test: zero error\")\n",
    "    if (number2SciFormatStr(1.3) != \"1.3e0\"):\n",
    "        raise AssertionError(\"Error@number2SciFormatStr_test\")\n",
    "    if (number2SciFormatStr(0.13) != \"1.3000000000000003e-1\"):\n",
    "        raise AssertionError(\"Error@number2SciFormatStr_test\")\n",
    "    if (number2SciFormatStr(13) != \"1.2999999999999998e1\"):\n",
    "        raise AssertionError(\"Error@number2SciFormatStr_test\")\n",
    "    if (number2SciFormatStr(0.00261) != \"2.6099999999999994e-3\"):\n",
    "        raise AssertionError(\"Error@number2SciFormatStr_test\")\n",
    "    if (number2SciFormatStr(261) != \"2.6099999999999994e2\"):\n",
    "        raise AssertionError(\"Error@number2SciFormatStr_test\")\n",
    "\n",
    "number2SciFormatStr_test()"
   ]
  }
 ],
 "metadata": {
  "interpreter": {
   "hash": "4fc13e4be84a14af348fa56821ee1ef4c9f70892e4456ede292a148d17118c26"
  },
  "kernelspec": {
   "display_name": "Python 3.7.11 ('MachineLearning')",
   "language": "python",
   "name": "python3"
  },
  "language_info": {
   "codemirror_mode": {
    "name": "ipython",
    "version": 3
   },
   "file_extension": ".py",
   "mimetype": "text/x-python",
   "name": "python",
   "nbconvert_exporter": "python",
   "pygments_lexer": "ipython3",
   "version": "3.7.11"
  },
  "orig_nbformat": 4
 },
 "nbformat": 4,
 "nbformat_minor": 2
}
