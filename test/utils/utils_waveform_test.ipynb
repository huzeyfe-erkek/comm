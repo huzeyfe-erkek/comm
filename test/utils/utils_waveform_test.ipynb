{
 "cells": [
  {
   "cell_type": "code",
   "execution_count": 4,
   "metadata": {},
   "outputs": [],
   "source": [
    "import numpy as np\n",
    "from scipy import signal as signal\n",
    "\n",
    "import sys\n",
    "sys.path.insert(0, '../../utils')\n",
    "from utils_waveform import *"
   ]
  },
  {
   "cell_type": "code",
   "execution_count": 6,
   "metadata": {},
   "outputs": [],
   "source": [
    "def upsample_test():\n",
    "    x = np.array([1, 2, 3])\n",
    "    N = 3\n",
    "    out = upsample(x, N)\n",
    "    outExpected = np.array([1, 0, 0, 2, 0, 0, 3, 0, 0])\n",
    "    if (np.array_equal(out, outExpected) == False):\n",
    "        raise AssertionError(\"Error@upsample_test\")\n",
    "\n",
    "upsample_test()"
   ]
  }
 ],
 "metadata": {
  "interpreter": {
   "hash": "4fc13e4be84a14af348fa56821ee1ef4c9f70892e4456ede292a148d17118c26"
  },
  "kernelspec": {
   "display_name": "Python 3.7.11 ('MachineLearning')",
   "language": "python",
   "name": "python3"
  },
  "language_info": {
   "codemirror_mode": {
    "name": "ipython",
    "version": 3
   },
   "file_extension": ".py",
   "mimetype": "text/x-python",
   "name": "python",
   "nbconvert_exporter": "python",
   "pygments_lexer": "ipython3",
   "version": "3.7.11"
  },
  "orig_nbformat": 4
 },
 "nbformat": 4,
 "nbformat_minor": 2
}
