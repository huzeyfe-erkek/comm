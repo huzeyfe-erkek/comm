{
 "cells": [
  {
   "cell_type": "markdown",
   "metadata": {},
   "source": [
    "### Testing random variable functions"
   ]
  },
  {
   "cell_type": "markdown",
   "metadata": {},
   "source": [
    "TODO:\\\n",
    "1-) Seperate functions\\\n",
    "2-) Convert to unit testing taking reference of envelope of the histogram"
   ]
  },
  {
   "cell_type": "code",
   "execution_count": null,
   "metadata": {
    "executionInfo": {
     "elapsed": 284,
     "status": "ok",
     "timestamp": 1629656155792,
     "user": {
      "displayName": "Huzeyfe Erkek",
      "photoUrl": "",
      "userId": "06260546395501823680"
     },
     "user_tz": -180
    },
    "id": "164CuWkz76M9"
   },
   "outputs": [],
   "source": [
    "#------------------------------------------------------------------------------#\n",
    "# Import Libraries\n",
    "#------------------------------------------------------------------------------#\n",
    "import sys\n",
    "sys.path.insert(0, '../../utils')\n",
    "from random_variables import *\n",
    "\n",
    "import numpy as np\n",
    "import matplotlib.pyplot as plt\n",
    "\n",
    "pi = np.pi\n",
    "from numpy import exp as exp\n",
    "from numpy import log as log\n",
    "from numpy import cos as cos\n",
    "from numpy import sin as sin\n",
    "from numpy import sqrt as sqrt\n",
    "from numpy import sign as sign\n",
    "from numpy import real as real\n",
    "from numpy import imag as imag\n",
    "\n",
    "from math import gamma as gamma # For nakagami random variables\n",
    "\n",
    "from scipy.special import kv as besselk # For G-K. Args.: kv(v, z), v -> Order of Bessel func., z -> Argument \n"
   ]
  },
  {
   "cell_type": "code",
   "execution_count": null,
   "metadata": {
    "colab": {
     "base_uri": "https://localhost:8080/"
    },
    "executionInfo": {
     "elapsed": 6771,
     "status": "ok",
     "timestamp": 1629656165074,
     "user": {
      "displayName": "Huzeyfe Erkek",
      "photoUrl": "",
      "userId": "06260546395501823680"
     },
     "user_tz": -180
    },
    "id": "EqMNd7hIciLf",
    "outputId": "570a1e3f-4254-488c-a972-8fdd13dabe69"
   },
   "outputs": [],
   "source": [
    "#------------------------------------------------------------------------------#\n",
    "# Test Bed: Calculations\n",
    "#------------------------------------------------------------------------------#\n",
    "length = int(1e6)\n",
    "n_s = np.arange(-10, 10, 0.01)\n",
    "n_s_pos = np.arange(0, 10, 0.01)\n",
    "\n",
    "### Testing Gaussian RV\n",
    "# Create Dataset\n",
    "gaussian_mean = 0\n",
    "gaussian_variance = 1\n",
    "\n",
    "# Simulated samples\n",
    "gaussian_samples = gaussian_rv(gaussian_mean, gaussian_variance, length)\n",
    "\n",
    "# Theoretical values\n",
    "gaussian_hist_theoretical = exp( -(( n_s - gaussian_mean)**2) / (2 * gaussian_variance) )/(sqrt(gaussian_variance * 2 * pi))\n",
    "\n",
    "### Testing Rayleigh RV\n",
    "rayleigh_omega = 1\n",
    "rayleigh_variance = rayleigh_omega / 2\n",
    "\n",
    "# Simulated samples\n",
    "rayleigh_samples = rayleigh_rv(rayleigh_omega, length)\n",
    "\n",
    "# Theoretical values\n",
    "rayleigh_hist_theoretical = exp( -((n_s_pos)**2)/2/rayleigh_variance ) * n_s_pos / rayleigh_variance\n",
    "\n",
    "### Testing Nakagami-m R.V. for integer m values\n",
    "n_omega = 1 # Omega for Nakagami-m  RVs\n",
    "int_m = 3\n",
    "\n",
    "# Simulated samples\n",
    "nakagami_int_samples = nakagami_int_m_rv(int_m, n_omega, length)\n",
    "\n",
    "# Theoretical values\n",
    "nakagami_int_hist_theoretical = (2*(int_m**int_m)*(n_s_pos**(2*int_m-1)) * (exp(-int_m/n_omega*((n_s_pos)**2))) / (gamma(int_m)*(n_omega)**int_m))\n",
    "\n",
    "### Testing Nakagami-m R.V. for half-integer m values\n",
    "half_int_m = 1.5\n",
    "\n",
    "# Simulated samples\n",
    "nakagami_half_int_samples = nakagami_half_int_m_rv(half_int_m, n_omega, length)\n",
    "\n",
    "# Theoretical values\n",
    "nakagami_half_int_hist_theoretical = (2*(half_int_m**half_int_m)*(n_s_pos**(2*half_int_m-1)) * (exp(-half_int_m/n_omega*((n_s_pos)**2))) / (gamma(half_int_m)*(n_omega)**half_int_m))\n",
    "\n",
    "### Testing Gamma RV\n",
    "k = 9\n",
    "y_0 = 0.5\n",
    "\n",
    "# Simulated samples\n",
    "gamma_samples =  gamma_rv(k, y_0, length) # Alternative: np.random.gamma(k, y_0, length)\n",
    "\n",
    "\n",
    "# Theoretical values\n",
    "gamma_theoretical = ( (n_s_pos**(k-1)) * exp(-n_s_pos/y_0)) / (gamma(k) * y_0**k)\n",
    "\n",
    "### Testing Generalized-K\n",
    "gk_power = 1\n",
    "gk_m = 2\n",
    "gk_k = 20\n",
    "\n",
    "# Simulated samples\n",
    "generalized_k_samples = generalized_k_rv_from_double_nakagami(gk_power, gk_k, gk_m, length)\n",
    "\n",
    "# Theoretical values\n",
    "y0 = gk_power / gk_k;\n",
    "b = 2 * sqrt(gk_m/y0);\n",
    "bessel_base = gk_k - gk_m;\n",
    "\n",
    "generalized_k_theoretical = 2 * b / (gamma(gk_m)*gamma(gk_k)) * ((b*n_s_pos/2)**(gk_k+gk_m-1)) * besselk(bessel_base, b*n_s_pos)\n"
   ]
  },
  {
   "cell_type": "code",
   "execution_count": null,
   "metadata": {
    "colab": {
     "base_uri": "https://localhost:8080/",
     "height": 1000
    },
    "executionInfo": {
     "elapsed": 2364,
     "status": "ok",
     "timestamp": 1629656169636,
     "user": {
      "displayName": "Huzeyfe Erkek",
      "photoUrl": "",
      "userId": "06260546395501823680"
     },
     "user_tz": -180
    },
    "id": "sLPNScw8ofMp",
    "outputId": "4d89f4be-9267-484b-d23b-7939ed181c28"
   },
   "outputs": [],
   "source": [
    "#------------------------------------------------------------------------------#\n",
    "# Test Bed: Figures\n",
    "#------------------------------------------------------------------------------#\n",
    "hist_bin = 100\n",
    "\n",
    "# Plotting Gaussian RV\n",
    "plt.figure()\n",
    "plt.plot(n_s, gaussian_hist_theoretical, label = 'Theoretical')\n",
    "plt.hist(gaussian_samples, bins = hist_bin, density=True, label = 'Simulated')\n",
    "plt.grid()\n",
    "plt.xlabel('Index')\n",
    "plt.ylabel('PDF')\n",
    "plt.title('Gaussian Random Variable')\n",
    "plt.show()\n",
    "\n",
    "### Plotting Rayleigh RV\n",
    "plt.figure()\n",
    "plt.plot(n_s_pos, rayleigh_hist_theoretical, label = 'Theoretical')\n",
    "plt.hist(rayleigh_samples, bins = hist_bin, density=True, label = 'Simulated')\n",
    "plt.grid()\n",
    "plt.xlabel('Index')\n",
    "plt.ylabel('PDF')\n",
    "plt.title('Rayleigh Random Variable')\n",
    "plt.show()\n",
    "\n",
    "### Plotting Nakagami-m with integer values\n",
    "plt.figure()\n",
    "plt.plot(n_s_pos, nakagami_int_hist_theoretical, label = 'Theoretical')\n",
    "plt.hist(nakagami_int_samples, bins = hist_bin, density=True, label = 'Simulated')\n",
    "plt.grid()\n",
    "plt.xlabel('Index')\n",
    "plt.ylabel('PDF')\n",
    "plt.title('Nakagami-m Random Variable (Integer Input)')\n",
    "plt.show()\n",
    "\n",
    "### Plotting Nakagami-m with half-integer values\n",
    "plt.figure()\n",
    "plt.plot(n_s_pos, nakagami_half_int_hist_theoretical, label = 'Theoretical')\n",
    "plt.hist(nakagami_half_int_samples, bins = hist_bin, density=True, label = 'Simulated')\n",
    "plt.grid()\n",
    "plt.xlabel('Index')\n",
    "plt.ylabel('PDF')\n",
    "plt.title('Nakagami-m Random Variable (Half-integer Input)')\n",
    "plt.show()\n",
    "\n",
    "### Plotting Gamma RV\n",
    "plt.figure()\n",
    "plt.plot(n_s_pos, gamma_theoretical, label = 'Theoretical')\n",
    "plt.hist(gamma_samples, bins = hist_bin, density=True, label = 'Simulated')\n",
    "plt.grid()\n",
    "plt.xlabel('Index')\n",
    "plt.ylabel('PDF')\n",
    "plt.title('Gamma RV')\n",
    "plt.show()\n",
    "\n",
    "### Plotting Generalized-K\n",
    "plt.figure()\n",
    "plt.plot(n_s_pos, generalized_k_theoretical, label = 'Theoretical')\n",
    "plt.hist(generalized_k_samples, bins = hist_bin, density=True, label = 'Simulated')\n",
    "plt.grid()\n",
    "plt.xlabel('Index')\n",
    "plt.ylabel('PDF')\n",
    "plt.title('Generalized-K RV')\n",
    "plt.show()\n"
   ]
  }
 ],
 "metadata": {
  "colab": {
   "authorship_tag": "ABX9TyPEjipOoj+r7k5iL0qZzjii",
   "collapsed_sections": [],
   "name": "random_variables.ipynb",
   "provenance": []
  },
  "hide_input": false,
  "kernelspec": {
   "display_name": "Python 3 (ipykernel)",
   "language": "python",
   "name": "python3"
  },
  "language_info": {
   "codemirror_mode": {
    "name": "ipython",
    "version": 3
   },
   "file_extension": ".py",
   "mimetype": "text/x-python",
   "name": "python",
   "nbconvert_exporter": "python",
   "pygments_lexer": "ipython3",
   "version": "3.7.11"
  },
  "toc": {
   "base_numbering": 1,
   "nav_menu": {},
   "number_sections": true,
   "sideBar": true,
   "skip_h1_title": false,
   "title_cell": "Table of Contents",
   "title_sidebar": "Contents",
   "toc_cell": false,
   "toc_position": {},
   "toc_section_display": true,
   "toc_window_display": false
  },
  "varInspector": {
   "cols": {
    "lenName": 16,
    "lenType": 16,
    "lenVar": 40
   },
   "kernels_config": {
    "python": {
     "delete_cmd_postfix": "",
     "delete_cmd_prefix": "del ",
     "library": "var_list.py",
     "varRefreshCmd": "print(var_dic_list())"
    },
    "r": {
     "delete_cmd_postfix": ") ",
     "delete_cmd_prefix": "rm(",
     "library": "var_list.r",
     "varRefreshCmd": "cat(var_dic_list()) "
    }
   },
   "types_to_exclude": [
    "module",
    "function",
    "builtin_function_or_method",
    "instance",
    "_Feature"
   ],
   "window_display": false
  }
 },
 "nbformat": 4,
 "nbformat_minor": 1
}
