{
 "cells": [
  {
   "cell_type": "code",
   "execution_count": 3,
   "metadata": {},
   "outputs": [],
   "source": [
    "#------------------------------------------------------------------------------#\n",
    "# Adding comm module path\n",
    "#------------------------------------------------------------------------------#\n",
    "import os\n",
    "import sys\n",
    "module_path = os.path.abspath(os.path.join('../..'))\n",
    "if module_path not in sys.path:\n",
    "    sys.path.append(module_path)\n",
    "\n",
    "import numpy as np\n",
    "\n",
    "from equalizers.linear import zeroForcing"
   ]
  },
  {
   "cell_type": "code",
   "execution_count": 4,
   "metadata": {},
   "outputs": [
    {
     "name": "stdout",
     "output_type": "stream",
     "text": [
      "[ 3.52733686e+00 -2.52699159e+00  1.57994988e-05 -8.01293736e-04\n",
      "  8.23998272e-04  4.71321655e-06 -1.03752929e-03  7.68318337e-04\n",
      " -7.45469362e-05  1.54315026e-04 -1.01647874e-04  4.32426766e-04\n",
      " -8.39020606e-04  6.88029642e-04 -8.39136967e-04  8.66486468e-04]\n",
      "[ 1.11111111  0.18518519 -0.21604938]\n",
      "[ 1.000000e+01 -9.000000e+01  8.250000e+02 -7.580000e+03  6.963650e+04\n",
      " -6.397345e+05]\n"
     ]
    }
   ],
   "source": [
    "# Data driven test for zeroForcing.\n",
    "\n",
    "## Test-1\n",
    "c = np.array([0.2835, 0.2031, 0.1455, 0.1043, 0.0747, 0.0535, 0.0384, 0.0275, 0.0197, 0.0141, 0.0101, 0.0072, 0.0052, 0.0037, 0.0027, 0.0019])\n",
    "expected2Coefficients = np.r_[[3.5273, -2.5270]] # Delay == 0\n",
    "wZf = zeroForcing(c)\n",
    "print(wZf)\n",
    "for i in range(expected2Coefficients.shape[0]):\n",
    "    if ((wZf[i] - expected2Coefficients[i]) > 1e-3):\n",
    "        raise AssertionError(str(\"Tap mismatch@\" + str(i)))\n",
    "\n",
    "# Test-2 (Example from Stübers book. Example 7.2)\n",
    "c = np.array([0.90, -0.15, 0.20, 0.10, -0.05])\n",
    "expected2Coefficients = np.r_[[1.1111, 0.1852, -0.216]] # Delay == 0\n",
    "wZf = zeroForcing(c, 3)\n",
    "print(wZf)\n",
    "for i in range(expected2Coefficients.shape[0]):\n",
    "    if ((wZf[i] - expected2Coefficients[i]) > 1e-3):\n",
    "        raise AssertionError(str(\"Tap mismatch@\" + str(i)))\n",
    "\n",
    "# Test-3 (Unstable response)\n",
    "#c = np.array([0.1, 0.90, -0.15, 0.20, 0.01, -0.05]) \n",
    "#wZf = zeroForcing(c)\n",
    "#print(wZf)"
   ]
  }
 ],
 "metadata": {
  "interpreter": {
   "hash": "4fc13e4be84a14af348fa56821ee1ef4c9f70892e4456ede292a148d17118c26"
  },
  "kernelspec": {
   "display_name": "Python 3.7.11 ('MachineLearning')",
   "language": "python",
   "name": "python3"
  },
  "language_info": {
   "codemirror_mode": {
    "name": "ipython",
    "version": 3
   },
   "file_extension": ".py",
   "mimetype": "text/x-python",
   "name": "python",
   "nbconvert_exporter": "python",
   "pygments_lexer": "ipython3",
   "version": "3.7.11"
  },
  "orig_nbformat": 4
 },
 "nbformat": 4,
 "nbformat_minor": 2
}
